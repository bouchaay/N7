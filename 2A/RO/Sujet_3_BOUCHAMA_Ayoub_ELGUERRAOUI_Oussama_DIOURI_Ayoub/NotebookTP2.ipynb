{
 "cells": [
  {
   "cell_type": "markdown",
   "metadata": {},
   "source": [
    "# TP 2 : Branch-and-bound applied to a knapsack problem to compar results with TP3"
   ]
  },
  {
   "cell_type": "markdown",
   "metadata": {},
   "source": [
    "### Récupération des données"
   ]
  },
  {
   "cell_type": "code",
   "execution_count": 1,
   "metadata": {},
   "outputs": [
    {
     "data": {
      "text/plain": [
       "readKnaptxtInstance (generic function with 1 method)"
      ]
     },
     "metadata": {},
     "output_type": "display_data"
    }
   ],
   "source": [
    "function readKnaptxtInstance(filename)\n",
    "    price=Int64[]\n",
    "    weight=Int64[]\n",
    "    KnapCap=Int64[]\n",
    "    open(filename) do f\n",
    "        for i in 1:3\n",
    "            tok = split(readline(f))\n",
    "            if(tok[1] == \"ListPrices=\")\n",
    "                for i in 2:(length(tok)-1)\n",
    "                    push!(price,parse(Int64, tok[i]))\n",
    "                end\n",
    "            elseif(tok[1] == \"ListWeights=\")\n",
    "                for i in 2:(length(tok)-1)\n",
    "                    push!(weight,parse(Int64, tok[i]))\n",
    "                end\n",
    "            elseif(tok[1] == \"Capacity=\")\n",
    "                push!(KnapCap, parse(Int64, tok[2]))\n",
    "            else\n",
    "                println(\"Unknown read :\", tok)\n",
    "            end\n",
    "        end\n",
    "    end\n",
    "    capacity=KnapCap[1]\n",
    "    return price, weight, capacity\n",
    "end"
   ]
  },
  {
   "cell_type": "markdown",
   "metadata": {},
   "source": [
    "### Tests de sondabilités TA, TO et TR basés sur le modèle linéaire"
   ]
  },
  {
   "cell_type": "code",
   "execution_count": 2,
   "metadata": {},
   "outputs": [
    {
     "data": {
      "text/plain": [
       "testSondability_LP (generic function with 1 method)"
      ]
     },
     "metadata": {},
     "output_type": "display_data"
    }
   ],
   "source": [
    "function testSondability_LP( capacity,  borne, BestProfit, Bestsol)\n",
    "   \n",
    "    TA, TO, TR = false, false, false\n",
    "    \n",
    "    \n",
    "\n",
    "    if capacity < 0  # Test d'Admissibilité\n",
    "        TA = true\n",
    "        \n",
    "        # println(\"TA\")\n",
    "        \n",
    "    elseif (borne < BestProfit)  # Test d'optimalite\n",
    "        TO = true\n",
    "        \n",
    "        # println(\"TO\")\n",
    "        \n",
    "    elseif (capacity == 0) || (borne == BestProfit)  # Test de resolution\n",
    "        TR = true\n",
    "        \n",
    "        # println(\"TR\")\n",
    "       \n",
    "        \n",
    "    else\n",
    "        \n",
    "        # println(\"non sondable\")\n",
    "        \n",
    "    end\n",
    "    return TA, TO, TR, Bestsol, BestProfit\n",
    "end"
   ]
  },
  {
   "cell_type": "markdown",
   "metadata": {},
   "source": [
    "## Procédure de séparation (branching) et stratégie d'exploration permettant de se placer au prochain noeud à traiter"
   ]
  },
  {
   "cell_type": "code",
   "execution_count": 3,
   "metadata": {},
   "outputs": [
    {
     "data": {
      "text/plain": [
       "exploreNextNode_depthfirst! (generic function with 1 method)"
      ]
     },
     "metadata": {},
     "output_type": "display_data"
    }
   ],
   "source": [
    "function separateNodeThenchooseNext_lexicographic_depthfirst!(listobjs, listvals, n)\n",
    "    # this node is non-sondable. Apply the branching criterion to separate it into two subnodes\n",
    "    # and choose the child-node at the left\n",
    "\n",
    "    # lexicographic branching criterion: branch on the 1st object not yet fixed\n",
    "    i, obj = 1, 0\n",
    "    while((i <= n) && (obj==0))\n",
    "        if(!(i in listobjs))\n",
    "            obj=i\n",
    "        end\n",
    "        i+=1\n",
    "    end\n",
    "\n",
    "    # println(\"\\nbranch on object \", obj, \"\\n\")\n",
    "\n",
    "    # depthfirst exploration strategy: the node selected will be the most left of the child-nodes just created\n",
    "    push!(listobjs,obj) #save the identity of the object selected for branching\n",
    "    push!(listvals,1.0) #save the node selected, identified by the value assigned to the variable/object chosen\n",
    "end\n",
    "\n",
    "\n",
    "function exploreNextNode_depthfirst!(listobjs, listvals, listnodes)\n",
    "    #this node is sondable, go back to parent node then right child if possible\n",
    "\n",
    "    stop=false\n",
    "    #check if we are not at the root node\n",
    "    if (length(listobjs)>= 1)\n",
    "        #go back to parent node\n",
    "        obj=pop!(listobjs)\n",
    "        theval=pop!(listvals)\n",
    "        tmp=pop!(listnodes)\n",
    "\n",
    "        #go to right child if possible, otherwise go back to parent\n",
    "        while( (theval==0.0) && (length(listobjs)>= 1))\n",
    "            obj=pop!(listobjs)\n",
    "            theval=pop!(listvals)\n",
    "            tmp=pop!(listnodes)\n",
    "        end\n",
    "        if theval==1.0\n",
    "            push!(listobjs,obj)\n",
    "            push!(listvals,0.0)\n",
    "        else\n",
    "            # println(\"\\nFINISHED\")\n",
    "            stop=true\n",
    "        end\n",
    "    else\n",
    "        #the root node was sondable\n",
    "        # println(\"\\nFINISHED\")\n",
    "        stop=true\n",
    "    end\n",
    "    return stop\n",
    "end"
   ]
  },
  {
   "cell_type": "markdown",
   "metadata": {},
   "source": [
    "###  Création de la relaxation linéaire (= modèle associé au noeud 0):"
   ]
  },
  {
   "cell_type": "code",
   "execution_count": 4,
   "metadata": {},
   "outputs": [
    {
     "data": {
      "text/plain": [
       "Bornes (generic function with 1 method)"
      ]
     },
     "metadata": {},
     "output_type": "display_data"
    }
   ],
   "source": [
    "function Bornes(price, weight, capacity, listobjs, listvals, BestProfit, Bestsol, option)\n",
    "    \n",
    "    borne = 0\n",
    "    prix = 0\n",
    "    max = 0\n",
    "\n",
    "    if option == 1\n",
    "        weightAct = 0\n",
    "        priceAct = 0\n",
    "        for i in 1:length(listobjs)\n",
    "            if listvals[i] == 1\n",
    "                if weightAct + weight[listobjs[i]] <= capacity\n",
    "                    weightAct += weight[listobjs[i]]\n",
    "                    priceAct += price[listobjs[i]]\n",
    "                end\n",
    "            end \n",
    "        end\n",
    "    \n",
    "        if priceAct >= BestProfit\n",
    "            Bestsol = copy(listobjs)\n",
    "            BestProfit = priceAct\n",
    "        end\n",
    "            \n",
    "        if (length(listobjs) < length(price)) \n",
    "            for i in (length(listobjs)+1):length(price)\n",
    "                r = price[i]/weight[i]\n",
    "                if (!(i in listobjs)) \n",
    "                    if r > max        \n",
    "                        max = r\n",
    "                    end     \n",
    "                end\n",
    "            end\n",
    "            borne = prix + max*capacity\n",
    "        else\n",
    "            borne = prix\n",
    "        end\n",
    "        \n",
    "    elseif option == 2\n",
    "        for i in 1:length(listobjs)\n",
    "            if listvals[i] == 1\n",
    "                capacity = capacity - weight[listobjs[i]]\n",
    "                # println(\"Capacity = \", capacity)\n",
    "                prix = prix + price[listobjs[i]]\n",
    "                \n",
    "            end\n",
    "        end\n",
    "    \n",
    "        deleteat!(price, listobjs)\n",
    "        deleteat!(weight, listobjs)\n",
    "    \n",
    "        if capacity >= 0\n",
    "            if prix > BestProfit\n",
    "                BestProfit = prix\n",
    "                Bestsol = copy(listobjs)\n",
    "            end\n",
    "        end\n",
    "        \n",
    "        \n",
    "        # Ratio\n",
    "        r = price./weight\n",
    "        listR = [(r[i], weight[i]) for i in 1:length(price)]\n",
    "        listR = sort(listR, by = x -> x[1], rev=true)\n",
    "        prix1 = 0\n",
    "\n",
    "        for i in 1:length(listR)\n",
    "            if listR[i][2] <= capacity\n",
    "                prix1 = prix1 + listR[i][1]*listR[i][2]\n",
    "                capacity = capacity - listR[i][2]\n",
    "            else\n",
    "                break\n",
    "            end\n",
    "        end\n",
    "\n",
    "        borne = prix + prix1\n",
    "    end\n",
    "\n",
    "return borne, capacity, BestProfit, Bestsol\n",
    "\n",
    "end"
   ]
  },
  {
   "cell_type": "markdown",
   "metadata": {},
   "source": [
    "### Boucle principale : résoudre une relaxation, appliquer les tests de sondabilité, identifier le prochain noeud, répéter."
   ]
  },
  {
   "cell_type": "code",
   "execution_count": 5,
   "metadata": {},
   "outputs": [
    {
     "data": {
      "text/plain": [
       "solveKnapInstance (generic function with 1 method)"
      ]
     },
     "metadata": {},
     "output_type": "display_data"
    }
   ],
   "source": [
    "function solveKnapInstance(filename, option)\n",
    "\n",
    "    price, weight, capacity = readKnaptxtInstance(filename)\n",
    "    n = length(price)\n",
    "\n",
    "    #model2, x = createModel_LP(price, weight, capacity)\n",
    "\n",
    "    #create the structure to memorize the search tree for visualization at the end\n",
    "    trParentnodes=Int64[] #will store orig node of arc in search tree\n",
    "    trChildnodes=Int64[] #will store destination node of arc in search tree\n",
    "    trNamenodes=[] #will store names of nodes in search tree\n",
    "\n",
    "    #intermediate structure to navigate in the search tree\n",
    "    listobjs=Int64[]\n",
    "    listvals=Float64[]\n",
    "    listnodes=Int64[]\n",
    "\n",
    "    BestProfit::Float64=-1.0\n",
    "    Bestsol=Float64[]\n",
    "\n",
    "    current_node_number::Int64=0\n",
    "    stop = false\n",
    "\n",
    "    while(!stop)\n",
    "\n",
    "        # println(\"\\nNode number \", current_node_number, \" : \\n---------------\\n\")\n",
    "\n",
    "        #Update the graphical tree\n",
    "        push!(trNamenodes,current_node_number+1) \n",
    "        if(length(trNamenodes)>=2)\n",
    "            push!(trParentnodes,listnodes[end]+1) # +1 because the 1st node is \"node 0\"\n",
    "            push!(trChildnodes, current_node_number+1) # +1 because the 1st node is \"node 0\"\n",
    "        end\n",
    "        push!(listnodes, current_node_number)\n",
    "\n",
    "        \n",
    "        #create LP of current node\n",
    "        #updateModele_LP!(model2, x, listobjs, listvals)\n",
    "        \n",
    "        #println(model2)\n",
    "        \n",
    "        # print(\"Solve the LP model of the current node to compute its bound: start ...\\n\\n\")\n",
    "\n",
    "        #status = optimize!(model2)\n",
    "\n",
    "        \n",
    "        priceAct = deepcopy(price)\n",
    "        weightAct = deepcopy(weight)\n",
    "        capacityAct = capacity\n",
    "        \n",
    "        borne, capacityAc, Bestp, BestS = Bornes(priceAct, weightAct, capacityAct, listobjs,listvals, BestProfit, Bestsol, option)\n",
    "\n",
    "        BestProfit = Bestp\n",
    "\n",
    "        Bestsol = BestS\n",
    "\n",
    "\n",
    "\n",
    "        TA, TO, TR = testSondability_LP( capacityAc,  borne, Bestp, BestS)\n",
    "\n",
    "        is_node_sondable = TA || TO || TR\n",
    "\n",
    "        #Reset_LP!(model2, x, listobjs)\n",
    "\n",
    "        if(!is_node_sondable)\n",
    "            separateNodeThenchooseNext_lexicographic_depthfirst!(listobjs, listvals, length(price))\n",
    "        else\n",
    "            stop = exploreNextNode_depthfirst!(listobjs, listvals, listnodes)\n",
    "        end\n",
    "        \n",
    "        #resetAll_LP!(model2, x)\n",
    "\n",
    "        current_node_number = current_node_number + 1\n",
    "    end\n",
    "\n",
    "    # println(\"\\n******\\n\\nOptimal value = \", BestProfit, \"\\n\\nOptimal x = \", Bestsol)\n",
    "\n",
    "    return BestProfit, Bestsol, trParentnodes, trChildnodes, trNamenodes\n",
    "\n",
    "end\n"
   ]
  },
  {
   "cell_type": "code",
   "execution_count": 6,
   "metadata": {},
   "outputs": [
    {
     "data": {
      "text/plain": [
       "GetKnapResolutionTime (generic function with 1 method)"
      ]
     },
     "metadata": {},
     "output_type": "display_data"
    }
   ],
   "source": [
    "# Afficher le temps d'exécution de la fonction SolveKnapInstance pour une instance donnée\n",
    "function GetKnapResolutionTime(filename)\n",
    "    time = @elapsed solveKnapInstance(filename, 2)\n",
    "    println(\"Temps d'exécution : \", time, \" secondes\")\n",
    "end"
   ]
  },
  {
   "cell_type": "code",
   "execution_count": 7,
   "metadata": {},
   "outputs": [
    {
     "name": "stdout",
     "output_type": "stream",
     "text": [
      "Temps d'exécution de l'instance almost_strongly_correlated/knapPI_5_50_1000_1_-2096.opb.txt :"
     ]
    },
    {
     "name": "stdout",
     "output_type": "stream",
     "text": [
      "\n",
      "Temps d'exécution : 0.5458104 secondes\n"
     ]
    }
   ],
   "source": [
    "# Retourne le temps d'éxécution de l'instance almost_strongly_correlated/knapPI_5_50_1000_1_-2096.opb.txt\n",
    "println(\"Temps d'exécution de l'instance almost_strongly_correlated/knapPI_5_50_1000_1_-2096.opb.txt :\")\n",
    "GetKnapResolutionTime(\"InstancesKnapSack/almost_strongly_correlated/knapPI_5_50_1000_1_-2096.opb.txt\")"
   ]
  },
  {
   "cell_type": "code",
   "execution_count": 8,
   "metadata": {},
   "outputs": [
    {
     "name": "stdout",
     "output_type": "stream",
     "text": [
      "Temps d'exécution de l'instance circle/knapPI_16_20_1000_2_-2296.opb.txt :\n",
      "Temps d'exécution : 0.0024385 secondes\n"
     ]
    }
   ],
   "source": [
    "# Retourne le temps d'éxécution de l'instance circle/knapPI_16_20_1000_2_-2296.opb.txt\n",
    "println(\"Temps d'exécution de l'instance circle/knapPI_16_20_1000_2_-2296.opb.txt :\")\n",
    "GetKnapResolutionTime(\"InstancesKnapSack/circle/knapPI_16_20_1000_2_-2296.opb.txt\")"
   ]
  },
  {
   "cell_type": "code",
   "execution_count": 9,
   "metadata": {},
   "outputs": [
    {
     "name": "stdout",
     "output_type": "stream",
     "text": [
      "Temps d'exécution de l'instance inverse_strongly_correlated/knapPI_4_50_1000_1_-994.opb.txt :\n",
      "Temps d'exécution : 0.0002626 secondes\n"
     ]
    }
   ],
   "source": [
    "# Retourne le temps d'éxécution de l'instance inverse_strongly_correlated/knapPI_4_50_1000_1_-994.opb.txt\n",
    "println(\"Temps d'exécution de l'instance inverse_strongly_correlated/knapPI_4_50_1000_1_-994.opb.txt :\")\n",
    "GetKnapResolutionTime(\"InstancesKnapSack/inverse_strongly_correlated/knapPI_4_50_1000_1_-994.opb.txt\")"
   ]
  },
  {
   "cell_type": "code",
   "execution_count": 10,
   "metadata": {},
   "outputs": [
    {
     "name": "stdout",
     "output_type": "stream",
     "text": [
      "Temps d'exécution de l'instance weakly_correlated_span/knapPI_12_20_1000_1_-970.opb.txt :\n",
      "Temps d'exécution : 0.0003638 secondes\n"
     ]
    }
   ],
   "source": [
    "# Retourne le temps d'éxécution de l'instance weakly_correlated_span/knapPI_12_20_1000_1_-970.opb.txt\n",
    "println(\"Temps d'exécution de l'instance weakly_correlated_span/knapPI_12_20_1000_1_-970.opb.txt :\")\n",
    "GetKnapResolutionTime(\"InstancesKnapSack/weakly_correlated_span/knapPI_12_20_1000_1_-970.opb.txt\")"
   ]
  }
 ],
 "metadata": {
  "kernelspec": {
   "display_name": "Julia 1.9.4",
   "language": "julia",
   "name": "julia-1.9"
  },
  "language_info": {
   "file_extension": ".jl",
   "mimetype": "application/julia",
   "name": "julia",
   "version": "1.9.4"
  }
 },
 "nbformat": 4,
 "nbformat_minor": 4
}
