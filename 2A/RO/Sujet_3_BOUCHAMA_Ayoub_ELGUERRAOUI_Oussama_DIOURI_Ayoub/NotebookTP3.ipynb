{
 "cells": [
  {
   "cell_type": "markdown",
   "metadata": {},
   "source": [
    "# TP 3 : Knapsack problem (Programmation Dynamique)"
   ]
  },
  {
   "cell_type": "markdown",
   "metadata": {},
   "source": [
    "### Récupération des données"
   ]
  },
  {
   "cell_type": "code",
   "execution_count": 1,
   "metadata": {},
   "outputs": [
    {
     "data": {
      "text/plain": [
       "readKnaptxtInstance (generic function with 1 method)"
      ]
     },
     "metadata": {},
     "output_type": "display_data"
    }
   ],
   "source": [
    "function readKnaptxtInstance(filename)\n",
    "    price=Int64[]\n",
    "    weight=Int64[]\n",
    "    KnapCap=Int64[]\n",
    "    open(filename) do f\n",
    "        for i in 1:3\n",
    "            tok = split(readline(f))\n",
    "            if(tok[1] == \"ListPrices=\")\n",
    "                for i in 2:(length(tok)-1)\n",
    "                    push!(price,parse(Int64, tok[i]))\n",
    "                end\n",
    "            elseif(tok[1] == \"ListWeights=\")\n",
    "                for i in 2:(length(tok)-1)\n",
    "                    push!(weight,parse(Int64, tok[i]))\n",
    "                end\n",
    "            elseif(tok[1] == \"Capacity=\")\n",
    "                push!(KnapCap, parse(Int64, tok[2]))\n",
    "            else\n",
    "                println(\"Unknown read :\", tok)\n",
    "            end\n",
    "        end\n",
    "    end\n",
    "    capacity=KnapCap[1]\n",
    "    return price, weight, capacity\n",
    "end"
   ]
  },
  {
   "cell_type": "markdown",
   "metadata": {},
   "source": [
    "### Résolution du problème"
   ]
  },
  {
   "cell_type": "code",
   "execution_count": 2,
   "metadata": {},
   "outputs": [
    {
     "data": {
      "text/plain": [
       "solveKnapInstance (generic function with 1 method)"
      ]
     },
     "metadata": {},
     "output_type": "display_data"
    }
   ],
   "source": [
    "function solveKnapInstance(filename)\n",
    "\n",
    "    price, weight, capacity = readKnaptxtInstance(filename)\n",
    "    n = length(price)\n",
    "    matriceDeBenefice = zeros(Int, n+1, capacity+1)\n",
    "    c = capacity\n",
    "    indObjSele = []\n",
    "    \n",
    "    \n",
    "    # Construire la matrice de bénéfice\n",
    "    for i in 2:(n+1)\n",
    "        for w in 2:(capacity+1)\n",
    "\n",
    "            # si le poids de l'objet est inférieur à la capacité du sac\n",
    "            if weight[i-1]  < w\n",
    "\n",
    "                # on prend le max entre le bénéfice de l'objet précédent et le bénéfice de l'objet précédent + le bénéfice de l'objet actuel\n",
    "                matriceDeBenefice[i, w] = max(matriceDeBenefice[i-1, w], matriceDeBenefice[i-1, w-weight[i-1]] + price[i-1])\n",
    "            else\n",
    "\n",
    "                # sinon on prend le bénéfice de l'objet précédent\n",
    "                matriceDeBenefice[i, w] = matriceDeBenefice[i-1, w]\n",
    "            end\n",
    "        end\n",
    "    end\n",
    "\n",
    "    # Récupération du bénéfice maximal\n",
    "    bestProfit = matriceDeBenefice[n+1, capacity+1]\n",
    "\n",
    "    # Récupérer les objets mis dans le sac\n",
    "    for i in n+1:-1:2\n",
    "        if matriceDeBenefice[i, c+1] != matriceDeBenefice[i-1, c+1]\n",
    "            push!(indObjSele, i-1)\n",
    "            c -= weight[i-1]\n",
    "        end\n",
    "        if c <= 0\n",
    "            break\n",
    "        end     \n",
    "    end\n",
    "    \n",
    "    # Récupérer la solution optimale\n",
    "    bestSol = zeros(Int, n)\n",
    "    for i in indObjSele\n",
    "        bestSol[i] = 1\n",
    "    end\n",
    "\n",
    "    return bestProfit, bestSol, matriceDeBenefice\n",
    "\n",
    "end\n"
   ]
  },
  {
   "cell_type": "markdown",
   "metadata": {},
   "source": [
    "### Affichage du résultat final"
   ]
  },
  {
   "cell_type": "code",
   "execution_count": 3,
   "metadata": {},
   "outputs": [
    {
     "data": {
      "text/plain": [
       "ShowKnapResolutionResult (generic function with 1 method)"
      ]
     },
     "metadata": {},
     "output_type": "display_data"
    }
   ],
   "source": [
    "function ShowKnapResolutionResult(filename)\n",
    "    bestProfit, bestSol, matriceDeBenifice = solveKnapInstance(filename)\n",
    "    println(\"Meilleur bénéfice : \", bestProfit)\n",
    "    println(\"Vecteur des objets mis dans le sac :\")\n",
    "    println(bestSol)\n",
    "    #println(\"Matrice des bénéfices :\")\n",
    "    #println(matriceDeBenifice)\n",
    "end"
   ]
  },
  {
   "cell_type": "code",
   "execution_count": 4,
   "metadata": {},
   "outputs": [
    {
     "name": "stdout",
     "output_type": "stream",
     "text": [
      "Meilleur bénéfice : 65\n",
      "Vecteur des objets mis dans le sac :\n"
     ]
    },
    {
     "name": "stdout",
     "output_type": "stream",
     "text": [
      "[0, 1, 0, 1]\n"
     ]
    }
   ],
   "source": [
    "# Résultats pour l'instance test.opb.txt\n",
    "ShowKnapResolutionResult(\"InstancesKnapSack/test.opb.txt\")"
   ]
  },
  {
   "cell_type": "code",
   "execution_count": 5,
   "metadata": {},
   "outputs": [
    {
     "name": "stdout",
     "output_type": "stream",
     "text": [
      "Meilleur bénéfice : 2096\n",
      "Vecteur des objets mis dans le sac :\n",
      "[0, 0, 0, 0, 0, 0, 1, 0, 0, 0, 1, 0, 0, 1, 0, 0, 0, 0, 0, 0, 0, 0, 0, 1, 0, 1, 0, 1, 0, 0, 0, 0, 1, 0, 0, 1, 1"
     ]
    },
    {
     "name": "stdout",
     "output_type": "stream",
     "text": [
      ", 1, 1, 0, 0, 0, 0, 0, 0, 0, 0, 0, 0, 0]\n"
     ]
    }
   ],
   "source": [
    "# Résultats pour l'instance almost_strongly_correlated/knapPI_5_50_1000_1_-2096.opb.txt\n",
    "ShowKnapResolutionResult(\"InstancesKnapSack/almost_strongly_correlated/knapPI_5_50_1000_1_-2096.opb.txt\")"
   ]
  },
  {
   "cell_type": "code",
   "execution_count": 6,
   "metadata": {},
   "outputs": [
    {
     "name": "stdout",
     "output_type": "stream",
     "text": [
      "Meilleur bénéfice : 2291\n",
      "Vecteur des objets mis dans le sac :\n",
      "[0, 0, 1, 0, 0, 1, 0, 0, 0, 0, 0, 0, 0, 0, 1, 0, 1, 0, 0, 0]\n"
     ]
    }
   ],
   "source": [
    "# Résultats pour l'instance circle/knapPI_16_20_1000_1_-2291.opb.txt\n",
    "ShowKnapResolutionResult(\"InstancesKnapSack/circle/knapPI_16_20_1000_1_-2291.opb.txt\")"
   ]
  },
  {
   "cell_type": "code",
   "execution_count": 7,
   "metadata": {},
   "outputs": [
    {
     "name": "stdout",
     "output_type": "stream",
     "text": [
      "Meilleur bénéfice : 994\n",
      "Vecteur des objets mis dans le sac :\n",
      "[0, 0, 0, 0, 0, 0, 0, 0, 0, 0, 0, 0, 0, 0, 0, 0, 0, 0, 0, 0, 0, 0, 0, 0, 0, 0, 0, 0, 0, 0, "
     ]
    },
    {
     "name": "stdout",
     "output_type": "stream",
     "text": [
      "0, 0, 0, 0, 0, 0, 0, 1, 0, 0, 0, 0, 0, 0, 0, 0, 0, 0, 0, 0]\n"
     ]
    }
   ],
   "source": [
    "# Résultats pour l'instance inverse_strongly_correlated/knapPI_4_50_1000_1_-994.opb.txt\n",
    "ShowKnapResolutionResult(\"InstancesKnapSack/inverse_strongly_correlated/knapPI_4_50_1000_1_-994.opb.txt\")"
   ]
  },
  {
   "cell_type": "code",
   "execution_count": 8,
   "metadata": {},
   "outputs": [
    {
     "name": "stdout",
     "output_type": "stream",
     "text": [
      "Meilleur bénéfice : 970\n",
      "Vecteur des objets mis dans le sac :\n",
      "[1, 0, 0, 0, 0, 0, 0, 0, 0, 0, 0, 1, 0, 0, 0, 0, 0, 0, 0, 0]\n"
     ]
    }
   ],
   "source": [
    "# Résultats pour l'instance weakly_correlated_span/knapPI_12_20_1000_1_-970.opb.txt\n",
    "ShowKnapResolutionResult(\"InstancesKnapSack/weakly_correlated_span/knapPI_12_20_1000_1_-970.opb.txt\")"
   ]
  },
  {
   "cell_type": "markdown",
   "metadata": {},
   "source": [
    "### Réponses aux questions"
   ]
  },
  {
   "cell_type": "markdown",
   "metadata": {},
   "source": [
    "Q1/ \n",
    " - La programmation dynamique est une méthode algorithmique qui consiste à décomposer un problème en étapes où chaque étape correspondà un sous problème résolu optimalement compte tenu des infos obtenues lors des étapes précédentes. Elle est souvent utilisée pour résoudre des problèmes d'optimisation où une solution optimale peut être construite à partir de solutions optimales de sous-problèmes.\n",
    " - La relation de récurrence est l'équation qui exprime la solution d'un problème en termes de solutions de ses sous-problèmes. Dans le contexte de la programmation dynamique, la relation de récurrence est importante pour décrire la dépendance entre les solutions des sous-problèmes et comment elles sont combinées pour résoudre le problème global.\n",
    "\n",
    "Q2/ Voir la fonction 'SolveKnapInstance'\n",
    "\n",
    "Q3/ Le résultat correspond bien à ce qu'on avait trouvé en utilisant l'algorithmme de Branch-and-Bound du TP2 et celle effectué en TD, avec un $bestProfit=65$ et les objets ajoutés au cartable :\n",
    "- $x2 >>> [price=40, weight=4]$\n",
    "- $x4 >>> [price=25, weight=5]$ \n",
    "\n",
    "ce qui montre que notre algorithme est cohérent et bien fonctionnel.\n",
    "\n",
    "Q4/\n",
    "- Etape 1 : On a construite en premier lieu la matrice de bénéfice dont chaque cellule représente le bénéfice maximal atteint pour une certaine capacité du sac et un certain nombre d'objet inclus dans chaque itération (décompostion du sous problème et calcul du bestProfit pour chaque sous problème).\n",
    "- Etape 2 : On récupère le bestProfit qui est stocké de la dernière cellule de la matrice située à la position (nbObjet+1, capacité+1).\n",
    "- Etape 3 : On a utilisé une boucle pour remonter à travers la matrice et déterminer quels objets étaient placés dans le sac pour atteindre le meilleur bénéfice.\n",
    "\n",
    "Q5/ Voir résultats des tests ci-dessus."
   ]
  },
  {
   "cell_type": "markdown",
   "metadata": {},
   "source": [
    "### Comparaison : Programmation dynamique vs Branch-And-Bound (Q6)"
   ]
  },
  {
   "cell_type": "code",
   "execution_count": 9,
   "metadata": {},
   "outputs": [
    {
     "data": {
      "text/plain": [
       "GetKnapResolutionTime (generic function with 1 method)"
      ]
     },
     "metadata": {},
     "output_type": "display_data"
    }
   ],
   "source": [
    "# Afficher le temps d'exécution de la fonction SolveKnapInstance pour une instance donnée\n",
    "function GetKnapResolutionTime(filename)\n",
    "    time = @elapsed solveKnapInstance(filename)\n",
    "    println(\"Temps d'exécution : \", time, \" secondes\")\n",
    "end"
   ]
  },
  {
   "cell_type": "code",
   "execution_count": 10,
   "metadata": {},
   "outputs": [
    {
     "name": "stdout",
     "output_type": "stream",
     "text": [
      "Temps d'exécution de l'instance almost_strongly_correlated/knapPI_5_50_1000_1_-2096.opb.txt :\n",
      "Temps d'exécution : 0.0005929"
     ]
    },
    {
     "name": "stdout",
     "output_type": "stream",
     "text": [
      " secondes\n"
     ]
    }
   ],
   "source": [
    "# Retourne le temps d'éxécution de l'instance almost_strongly_correlated/knapPI_5_50_1000_1_-2096.opb.txt\n",
    "println(\"Temps d'exécution de l'instance almost_strongly_correlated/knapPI_5_50_1000_1_-2096.opb.txt :\")\n",
    "GetKnapResolutionTime(\"InstancesKnapSack/almost_strongly_correlated/knapPI_5_50_1000_1_-2096.opb.txt\")"
   ]
  },
  {
   "cell_type": "code",
   "execution_count": 20,
   "metadata": {},
   "outputs": [
    {
     "name": "stdout",
     "output_type": "stream",
     "text": [
      "Temps d'exécution de l'instance circle/knapPI_16_20_1000_2_-2296.opb.txt :\n",
      "Temps d'exécution : 0.000507 secondes\n"
     ]
    }
   ],
   "source": [
    "# Retourne le temps d'éxécution de l'instance circle/knapPI_16_20_1000_2_-2296.opb.txt\n",
    "println(\"Temps d'exécution de l'instance circle/knapPI_16_20_1000_2_-2296.opb.txt :\")\n",
    "GetKnapResolutionTime(\"InstancesKnapSack/circle/knapPI_16_20_1000_2_-2296.opb.txt\")"
   ]
  },
  {
   "cell_type": "code",
   "execution_count": 23,
   "metadata": {},
   "outputs": [
    {
     "name": "stdout",
     "output_type": "stream",
     "text": [
      "Temps d'exécution de l'instance inverse_strongly_correlated/knapPI_4_50_1000_1_-994.opb.txt :\n",
      "Temps d'exécution : 0.0006064 secondes\n"
     ]
    }
   ],
   "source": [
    "# Retourne le temps d'éxécution de l'instance inverse_strongly_correlated/knapPI_4_50_1000_1_-994.opb.txt\n",
    "println(\"Temps d'exécution de l'instance inverse_strongly_correlated/knapPI_4_50_1000_1_-994.opb.txt :\")\n",
    "GetKnapResolutionTime(\"InstancesKnapSack/inverse_strongly_correlated/knapPI_4_50_1000_1_-994.opb.txt\")"
   ]
  },
  {
   "cell_type": "code",
   "execution_count": 32,
   "metadata": {},
   "outputs": [
    {
     "name": "stdout",
     "output_type": "stream",
     "text": [
      "Temps d'exécution de l'instance weakly_correlated_span/knapPI_12_20_1000_1_-970.opb.txt :\n",
      "Temps d'exécution : 0.0002177 secondes\n"
     ]
    }
   ],
   "source": [
    "# Retourne le temps d'éxécution de l'instance weakly_correlated_span/knapPI_12_20_1000_1_-970.opb.txt\n",
    "println(\"Temps d'exécution de l'instance weakly_correlated_span/knapPI_12_20_1000_1_-970.opb.txt :\")\n",
    "GetKnapResolutionTime(\"InstancesKnapSack/weakly_correlated_span/knapPI_12_20_1000_1_-970.opb.txt\")"
   ]
  },
  {
   "cell_type": "markdown",
   "metadata": {},
   "source": [
    "<span style=\"color:red;\"> Les calculs des temps d'exécution des fonctions pour la résolution du problèmes en utilisant le Branch-And-Bound sont donnés dans le 'NotebookTP2.ipynb' !!! </span>"
   ]
  },
  {
   "cell_type": "markdown",
   "metadata": {},
   "source": [
    "|                   | almost strongly correlated | circle   | inverse strongly correlated   | weakly_correlated_span |\n",
    "| :---------------  | :------------------------- | :------- | :---------------------------- | :--------------------- |\n",
    "| Nombre d'objet    |  50                        |20        | 50                            | 20                     |\n",
    "| TP2               |  545ms                     |2.4ms     | 0.26ms                        | 0.36ms                 |\n",
    "| TP3               |  0.5929ms                  |0.507ms   | 0.6ms                         | 0.2177ms               |"
   ]
  },
  {
   "cell_type": "markdown",
   "metadata": {},
   "source": [
    "Nous remarquons que l'algorithme de la programmation dynamique est généralement plus rapide que celui du Branch-And-Bound sauf pour l'instance d'inverse strongly correlated qu'on a utilisé, et donc on est obligé de refaire le test sur plusieurs instance pour vérifier ceci, car cela semble moins logique puisque la compexité du branch and bound est $2^{n}$ alors que l'algorithme de la programmation dynamique n'a que ($nbObjet*Capacity$)."
   ]
  },
  {
   "cell_type": "code",
   "execution_count": 14,
   "metadata": {},
   "outputs": [
    {
     "data": {
      "text/plain": [
       "GetKnapResolutionTimeInverseStronglyCorrelated (generic function with 1 method)"
      ]
     },
     "metadata": {},
     "output_type": "display_data"
    }
   ],
   "source": [
    "# Fonction pour calculer la moyenne du temps d'execution de 10 instance du dossier inverse_strongly_correlated\n",
    "function GetKnapResolutionTimeInverseStronglyCorrelated()\n",
    "    time = 0\n",
    "    nbFiles = 0\n",
    "    for file in readdir(\"InstancesKnapSack/inverse_strongly_correlated\")\n",
    "        filename = \"InstancesKnapSack/inverse_strongly_correlated/\" * file\n",
    "        time += @elapsed solveKnapInstance(filename)\n",
    "        nbFiles += 1\n",
    "        if nbFiles == 10\n",
    "            break\n",
    "        end\n",
    "    end\n",
    "    println(\"Temps d'exécution moyen de l'ensemble des instances du dossier inverse_strongly_correlated : \", time/nbFiles, \" secondes\")\n",
    "end"
   ]
  },
  {
   "cell_type": "code",
   "execution_count": 15,
   "metadata": {},
   "outputs": [],
   "source": [
    "# Malheureusement, on a eu une out of memory error lors de l'éxécution de cette fonction\n",
    "# GetKnapResolutionTimeInverseStronglyCorrelated()"
   ]
  },
  {
   "cell_type": "markdown",
   "metadata": {},
   "source": [
    "### Bonus : Algorithme de Bellman-Ford pour le calcul du plus court chemin"
   ]
  },
  {
   "cell_type": "code",
   "execution_count": 33,
   "metadata": {},
   "outputs": [
    {
     "data": {
      "text/plain": [
       "bellman_ford (generic function with 1 method)"
      ]
     },
     "metadata": {},
     "output_type": "display_data"
    }
   ],
   "source": [
    "# Fonction de Bellman-Ford pour calculer les distances et les predecesseurs\n",
    "function bellman_ford(matrice_adjacence, source)\n",
    "    \n",
    "    # Initialisation du nombre de sommets\n",
    "    nb_sommets = size(matrice_adjacence, 1)\n",
    "\n",
    "    # Initialisation tableau des distances de taille nb_sommets rempli d'infini\n",
    "    distances = fill(Inf, nb_sommets)\n",
    "\n",
    "    # Initialisation tableau des predecesseurs de taille nb_sommets rempli de 0\n",
    "    predecesseurs = fill(0, nb_sommets)\n",
    "    \n",
    "    # Initialisation de la distance du sommet source à 0\n",
    "    distances[source] = 0\n",
    "\n",
    "    # Boucle pour mettre à jour les distances et les predecesseurs\n",
    "    for i in 1:nb_sommets\n",
    "        for j in 1:nb_sommets\n",
    "            poids = matrice_adjacence[j, i]\n",
    "            if poids != Inf && distances[j] + poids < distances[i]\n",
    "                distances[i] = distances[j] + poids\n",
    "                predecesseurs[i] = j\n",
    "            end\n",
    "        end\n",
    "    end\n",
    "    \n",
    "    return distances, predecesseurs\n",
    "end"
   ]
  },
  {
   "cell_type": "code",
   "execution_count": 34,
   "metadata": {},
   "outputs": [
    {
     "data": {
      "text/plain": [
       "chemin_plus_court (generic function with 1 method)"
      ]
     },
     "metadata": {},
     "output_type": "display_data"
    }
   ],
   "source": [
    "# Calcul du chemin le plus court entre deux sommets\n",
    "function chemin_plus_court(predecesseurs, sommet_depart, sommet_arrivee)\n",
    "    chemin = [sommet_arrivee]\n",
    "    sommet_actuel = sommet_arrivee\n",
    "    \n",
    "    while sommet_actuel != sommet_depart\n",
    "        sommet_actuel = predecesseurs[sommet_actuel]\n",
    "        pushfirst!(chemin, sommet_actuel)\n",
    "    end\n",
    "    \n",
    "    return chemin\n",
    "end"
   ]
  },
  {
   "cell_type": "code",
   "execution_count": 35,
   "metadata": {},
   "outputs": [
    {
     "name": "stdout",
     "output_type": "stream",
     "text": [
      "Distances depuis le sommet 1 : [0.0, 3.0, 7.0, 9.0, 5.0, 12.0]\n",
      "Chemin optimal entre 1 et 6 : [1, 2, 3, 4, "
     ]
    },
    {
     "name": "stdout",
     "output_type": "stream",
     "text": [
      "6]\n",
      "Coût du chemin optimal : 12.0\n"
     ]
    }
   ],
   "source": [
    "# Test avec l'exemple donné\n",
    "matrice_adjacence = couts = [Inf 3 Inf Inf 5 Inf; Inf Inf 4 Inf Inf Inf; Inf Inf Inf 2 Inf Inf; Inf Inf Inf Inf Inf 3; Inf -1 Inf 9 Inf Inf; Inf Inf Inf Inf Inf Inf]\n",
    "source = 1\n",
    "destination = 6\n",
    "\n",
    "distances, predecesseurs = bellman_ford(matrice_adjacence, source)\n",
    "chemin_optimal = chemin_plus_court(predecesseurs, source, destination)\n",
    "\n",
    "println(\"Distances depuis le sommet $source : \", distances)\n",
    "println(\"Chemin optimal entre $source et $destination : \", chemin_optimal)\n",
    "println(\"Coût du chemin optimal : \", distances[destination])"
   ]
  }
 ],
 "metadata": {
  "kernelspec": {
   "display_name": "Julia 1.9.4",
   "language": "julia",
   "name": "julia-1.9"
  },
  "language_info": {
   "file_extension": ".jl",
   "mimetype": "application/julia",
   "name": "julia",
   "version": "1.9.4"
  }
 },
 "nbformat": 4,
 "nbformat_minor": 4
}
