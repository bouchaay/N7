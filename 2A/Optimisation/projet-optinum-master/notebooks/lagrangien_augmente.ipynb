{
 "cells": [
  {
   "cell_type": "markdown",
   "metadata": {},
   "source": [
    "<center>\n",
    "<h1> TP-Projet d'optimisation numérique </h1>\n",
    "<h1> Algorithme du lagrangien augmenté </h1>\n",
    "</center>"
   ]
  },
  {
   "cell_type": "markdown",
   "metadata": {},
   "source": [
    "## Implémentation\n",
    "\n",
    "1. Implémenter l'algorithme du lagrangien augmenté, en utilisant les différentes méthodes\n",
    "qui ont été vues en première partie pour la résolution de la suite de problèmes sans\n",
    "contraintes (fichier `src/lagrangien_augmente.jl`). La spécification est donnée dans le fichier.\n",
    "2. Vérifier que les tests ci-dessous passent.\n",
    " "
   ]
  },
  {
   "cell_type": "code",
   "execution_count": 3,
   "metadata": {},
   "outputs": [
    {
     "name": "stdout",
     "output_type": "stream",
     "text": [
      "Affichage des résultats des algorithmes : true\n",
      "\n",
      "-------------------------------------------------------------------------\n",
      "\u001b[34m\u001b[1mRésultats de : LA et newton appliqué à f1:\u001b[22m\u001b[39m\n",
      "  * x0       = [0, 1, 1]\n",
      "  * x_sol    = [0.5000042424566808, 1.2499978787716595, 0.5000042424566811]\n",
      "  * f(x_sol) = 3\n",
      "  * nb_iters = 7\n",
      "  * flag     = 0\n",
      "  * solution = [0.5, 1.25, 0.5]\n"
     ]
    },
    {
     "name": "stdout",
     "output_type": "stream",
     "text": [
      "-------------------------------------------------------------------------\n",
      "\u001b[34m\u001b[1mRésultats de : LA et newton appliqué à f1:\u001b[22m\u001b[39m\n",
      "  * x0       = [0.5, 1.25, 1.0]\n",
      "  * x_sol    = [0.5000042424566808, 1.2499978787716595, 0.5000042424566811]\n",
      "  * f(x_sol) = 0.75\n",
      "  * nb_iters = 7\n",
      "  * flag     = 0\n",
      "  * solution = [0.5,"
     ]
    },
    {
     "name": "stdout",
     "output_type": "stream",
     "text": [
      " 1.25, 0.5]\n"
     ]
    },
    {
     "name": "stdout",
     "output_type": "stream",
     "text": [
      "-------------------------------------------------------------------------\n",
      "\u001b[34m\u001b[1mRésultats de : LA et newton appliqué à f2:\u001b[22m\u001b[39m\n",
      "  * x0       = [1, 0]\n",
      "  * x_sol    = [0.9072338859288741, 0.8227553207255176]\n",
      "  * f(x_sol) = 100\n",
      "  * nb_iters = 5\n",
      "  * flag     = 0\n",
      "  * solution = [0.9072339605110892, 0.82275545631455]\n"
     ]
    },
    {
     "name": "stdout",
     "output_type": "stream",
     "text": [
      "-------------------------------------------------------------------------\n",
      "\u001b[34m\u001b[1mRésultats de : LA et newton appliqué à f2:\u001b[22m\u001b[39m\n",
      "  * x0       = [0.8660254037844386, 0.8660254037844386]\n",
      "  * x_sol    = [0.9072338859288741, 0.8227553207255176]\n",
      "  * f(x_sol) = 1.3641386247653273\n",
      "  * nb_iters = 5\n",
      "  * flag     = 0\n",
      "  * solution = [0.9072339605110892, 0.82275545631455]"
     ]
    },
    {
     "name": "stdout",
     "output_type": "stream",
     "text": [
      "\n"
     ]
    },
    {
     "name": "stdout",
     "output_type": "stream",
     "text": [
      "-------------------------------------------------------------------------\n",
      "\u001b[34m\u001b[1mRésultats de : LA et rc-cauchy appliqué à f1:\u001b[22m\u001b[39m\n",
      "  * x0       = [0, 1, 1]\n",
      "  * x_sol    = [0.5000042173506274, 1.2499978582161777, 0.500004349472186]\n",
      "  * f(x_sol) = 3\n",
      "  * nb_iters = 7\n",
      "  * flag     = 0\n",
      "  * solution = [0.5, 1.25, 0.5]\n",
      "-------------------------------------------------------------------------\n",
      "\u001b[34m\u001b[1mRésultats de : LA et rc-cauchy appliqué à f1:\u001b[22m\u001b[39m\n",
      "  * x0       = [0.5, 1.25, 1.0]\n",
      "  * x_sol    = [0.5000042163584932, 1.249997858802231, 0.5000043481217972]\n",
      "  * f(x_sol) = 0.75\n",
      "  * nb_iters = 7\n",
      "  * flag     = 0\n",
      "  * solution = ["
     ]
    },
    {
     "name": "stdout",
     "output_type": "stream",
     "text": [
      "0.5, 1.25, 0.5]"
     ]
    },
    {
     "name": "stdout",
     "output_type": "stream",
     "text": [
      "\n",
      "-------------------------------------------------------------------------\n",
      "\u001b[34m\u001b[1mRésultats de : LA et rc-cauchy appliqué à f2:\u001b[22m\u001b[39m\n",
      "  * x0       = [1, 0]\n",
      "  * x_sol    = [0.9072340161750595, 0.8227555575091694]\n",
      "  * f(x_sol) = 100\n",
      "  * nb_iters = 5\n",
      "  * flag     = 0\n",
      "  * solution = [0.9072339605110892, 0.82275545631455]\n",
      "-------------------------------------------------------------------------\n",
      "\u001b[34m\u001b[1mRésultats de : LA et rc-cauchy appliqué à f2:\u001b[22m\u001b[39m\n",
      "  * x0       = [0.8660254037844386"
     ]
    },
    {
     "name": "stdout",
     "output_type": "stream",
     "text": [
      ", 0.8660254037844386]\n",
      "  * x_sol    = [0.9072340161750595, 0.8227555575091695]\n",
      "  * f(x_sol) = 1.3641386247653273\n",
      "  * nb_iters = 5\n",
      "  * flag     = 0\n",
      "  * solution = [0.9072339605110892, 0.82275545631455]"
     ]
    },
    {
     "name": "stdout",
     "output_type": "stream",
     "text": [
      "\n",
      "-------------------------------------------------------------------------\n",
      "\u001b[34m\u001b[1mRésultats de : LA et rc-gct appliqué à f1:\u001b[22m\u001b[39m\n",
      "  * x0       = [0, 1, 1]\n",
      "  * x_sol    = [0.500004242456681, 1.2499978787716595, 0.500004242456681]\n",
      "  * f(x_sol) = 3\n",
      "  * nb_iters = 7\n",
      "  * flag     = 0\n",
      "  * solution = [0.5, 1.25, 0.5]\n",
      "-------------------------------------------------------------------------\n",
      "\u001b[34m\u001b[1mRésultats de : LA et rc-gct appliqué à f1:\u001b[22m\u001b[39m\n",
      "  * x0       = [0.5, 1.25, 1.0]\n",
      "  * x_sol    = [0.500004242456681, 1.2499978787716595, 0.500004242456681]\n",
      "  * f(x_sol) = 0.75\n",
      "  * nb_iters = 7\n",
      "  * flag     = 0\n",
      "  * solution = [0.5, 1.25, 0.5]\n",
      "-------------------------------------------------------------------------\n",
      "\u001b[34m\u001b[1mRésultats de : LA et rc-gct appliqué à f2:\u001b[22m\u001b[39m\n",
      "  * x0       = [1, 0]\n",
      "  * x_sol    = [0.9072338859288741, 0.8227553207255176]\n",
      "  * f(x_sol) = 100\n",
      "  * nb_iters = 5\n",
      "  * flag     = 0\n",
      "  * solution = [0.9072339605110892, 0.82275545631455]\n",
      "-------------------------------------------------------------------------\n",
      "\u001b[34m\u001b[1mRésultats de : LA et rc-gct appliqué à f2:\u001b[22m\u001b[39m\n",
      "  * x0       = [0.8660254037844386, 0.8660254037844386]\n",
      "  * x_sol    = [0.9072338859288741, 0.8227553207255176]\n",
      "  * f(x_sol) = 1.3641386247653273\n",
      "  * nb_iters = 5\n",
      "  * flag     = 0\n",
      "  * solution = [0.9072339605110892, 0.82275545631455]\n",
      "\u001b[0m\u001b[1mTest Summary:         | \u001b[22m\u001b[32m\u001b[1mPass  \u001b[22m\u001b[39m"
     ]
    },
    {
     "name": "stdout",
     "output_type": "stream",
     "text": [
      "\u001b[36m\u001b[1mTotal  \u001b[22m\u001b[39m\u001b[0m\u001b[1mTime\u001b[22m\n",
      "Lagrangien augmenté   | \u001b[32m  12  \u001b[39m\u001b[36m   12  \u001b[39m\u001b[0m3.3s\n"
     ]
    }
   ],
   "source": [
    "include(\"../src/lagrangien_augmente.jl\")\n",
    "include(\"../test/tester_lagrangien_augmente.jl\")\n",
    "\n",
    "#\n",
    "afficher = true\n",
    "\n",
    " # si true, alors affiche les résultats des algorithmes\n",
    "\n",
    "#\n",
    "tester_lagrangien_augmente(lagrangien_augmente, afficher);"
   ]
  },
  {
   "cell_type": "markdown",
   "metadata": {},
   "source": [
    "## Interprétation\n",
    "\n",
    " 1. Commenter les résultats obtenus, en étudiant notamment les valeurs en sortie de $\\lambda_k$ et $\\mu_k$.\n",
    " 2. Étudier l'influence du paramètre $\\tau$ dans la performance de l'algorithme. Pour cela Vous réaliserez des tests numériques."
   ]
  },
  {
   "cell_type": "code",
   "execution_count": 4,
   "metadata": {},
   "outputs": [],
   "source": [
    "# Expérimentations numériques à faire ici.\n",
    "# Vous pouvez utiliser le package Plots pour les affichages de courbes: using Plots"
   ]
  }
 ],
 "metadata": {
  "kernelspec": {
   "display_name": "Julia 1.9.4",
   "language": "julia",
   "name": "julia-1.9"
  },
  "language_info": {
   "file_extension": ".jl",
   "mimetype": "application/julia",
   "name": "julia",
   "version": "1.9.4"
  }
 },
 "nbformat": 4,
 "nbformat_minor": 4
}
