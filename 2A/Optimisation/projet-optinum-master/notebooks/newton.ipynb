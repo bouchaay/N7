{
 "cells": [
  {
   "cell_type": "markdown",
   "metadata": {},
   "source": [
    "<center>\n",
    "<h1> TP-Projet d'optimisation numérique </h1>\n",
    "<h1> Algorithme de Newton </h1>\n",
    "</center>"
   ]
  },
  {
   "cell_type": "markdown",
   "metadata": {},
   "source": [
    "## Implémentation \n",
    " \n",
    "1. Coder l’algorithme de Newton dans le fichier `src/newton.jl` en respectant la spécification donnée dans ce même fichier ;\n",
    "2. Exécuter les tests ci-dessous et vérifier qu'ils passent.\n",
    "\n",
    "Pour les tests, nous avons défini les fonctions suivantes $f_1 \\colon \\mathbb{R}^3 \\to \\mathbb{R}$\n",
    "et $f_2 \\colon \\mathbb{R}^2 \\to \\mathbb{R}$.\n",
    "\n",
    "$$\n",
    "    f_{1}(x_1, x_2, x_3) = 2 (x_1 +x_2 + x_3 -3)^2 + (x_1-x_2)^2 + (x_2 - x_3)^2\n",
    "$$\n",
    "et\n",
    "$$\n",
    "    f_{2}(x_1,x_2) = 100(x_2-x_1^2)^2 + (1-x_1)^2.\n",
    "$$\n",
    "\n",
    "**Remarque.** On peut retrouver ces fonctions dans le fichier `test/fonctions_de_tests.jl`."
   ]
  },
  {
   "cell_type": "code",
   "execution_count": 1,
   "metadata": {},
   "outputs": [
    {
     "name": "stdout",
     "output_type": "stream",
     "text": [
      "Affichage des résultats des algorithmes : true\n"
     ]
    },
    {
     "name": "stdout",
     "output_type": "stream",
     "text": [
      "\n",
      "-------------------------------------------------------------------------"
     ]
    },
    {
     "name": "stdout",
     "output_type": "stream",
     "text": [
      "\n",
      "\u001b[34m\u001b[1mRésultats de : newton appliqué à f1:\u001b[22m\u001b[39m\n",
      "  * x0       = "
     ]
    },
    {
     "name": "stdout",
     "output_type": "stream",
     "text": [
      "[1, 1, 1]\n",
      "  * x_sol    = [1, 1, 1]\n",
      "  * f(x_sol) = 0\n",
      "  * nb_iters = 0\n",
      "  * flag     = 0\n",
      "  * solution = [1, 1, 1]\n"
     ]
    },
    {
     "name": "stdout",
     "output_type": "stream",
     "text": [
      "-------------------------------------------------------------------------\n",
      "\u001b[34m\u001b[1mRésultats de : newton appliqué à f1:\u001b[22m\u001b[39m\n",
      "  * x0       = [1, 0, 0]\n",
      "  * x_sol    = "
     ]
    },
    {
     "name": "stdout",
     "output_type": "stream",
     "text": [
      "[1.0, 1.0, 0.9999999999999999]\n"
     ]
    },
    {
     "name": "stdout",
     "output_type": "stream",
     "text": [
      "  * f(x_sol) = 1.232595164407831e-32\n",
      "  * nb_iters = 1\n",
      "  * flag     = 0\n",
      "  * solution = [1, 1, 1]"
     ]
    },
    {
     "name": "stdout",
     "output_type": "stream",
     "text": [
      "\n",
      "-------------------------------------------------------------------------\n",
      "\u001b[34m\u001b[1mRésultats de : newton appliqué à f1:\u001b[22m\u001b[39m\n",
      "  * x0       = [10.0, 3.0, -2.2]\n",
      "  * x_sol    = [1.0, 0.9999999999999996, 0.9999999999999987]\n",
      "  * f(x_sol) = 7.296963373294359e-30\n",
      "  * nb_iters = 1\n",
      "  * flag     = 0\n",
      "  * solution = [1, 1, 1]\n"
     ]
    },
    {
     "name": "stdout",
     "output_type": "stream",
     "text": [
      "-------------------------------------------------------------------------\n",
      "\u001b[34m\u001b[1mRésultats de : newton appliqué à f2:\u001b[22m\u001b[39m\n",
      "  * x0       = [-1.2, 1.0]\n",
      "  * x_sol    = [0.9999999999999999, 0.9999999999814724]\n",
      "  * f(x_sol) = 3.4326461875363225e-20\n",
      "  * nb_iters = 6\n",
      "  * flag     = 0\n",
      "  * solution = "
     ]
    },
    {
     "name": "stdout",
     "output_type": "stream",
     "text": [
      "[1, 1]"
     ]
    },
    {
     "name": "stdout",
     "output_type": "stream",
     "text": [
      "\n",
      "-------------------------------------------------------------------------\n",
      "\u001b[34m\u001b[1mRésultats de : newton appliqué à f2:\u001b[22m\u001b[39m\n",
      "  * x0       = [10, 0]\n",
      "  * x_sol    = [1.0, 1.0]\n",
      "  * f(x_sol) = 0.0\n",
      "  * nb_iters = 5\n",
      "  * flag     = 0\n",
      "  * solution = [1, 1]\n",
      "-------------------------------------------------------------------------\n",
      "\u001b[34m\u001b[1mRésultats de : newton appliqué à f2:\u001b[22m\u001b[39m\n"
     ]
    },
    {
     "name": "stdout",
     "output_type": "stream",
     "text": [
      "  * x0       = [0.0, 0.0050000000010000005]\n",
      "  * x_sol    = [-4.99999958629818e9, 8.673617379884035e-19]\n",
      "  * f(x_sol) = 6.249997931491155e40\n",
      "  * nb_iters = 1\n",
      "  * flag     = 3\n",
      "  * solution = [1, 1]"
     ]
    },
    {
     "name": "stdout",
     "output_type": "stream",
     "text": [
      "\n",
      "\u001b[0m\u001b[1mTest Summary:        | \u001b[22m\u001b[32m\u001b[1mPass  \u001b[22m\u001b[39m\u001b[36m\u001b[1mTotal  \u001b[22m\u001b[39m\u001b[0m\u001b[1mTime\u001b[22m\n",
      "algorithme de Newton | \u001b[32m  19  \u001b[39m\u001b[36m   19  \u001b[39m\u001b[0m5.7s\n"
     ]
    }
   ],
   "source": [
    "include(\"../src/newton.jl\")         # votre algorithme de Newton\n",
    "include(\"../test/tester_newton.jl\") # la fonction pour tester votre algorithme de Newton\n",
    "\n",
    "#\n",
    "afficher = true # si true, alors affiche les résultats des algorithmes\n",
    "\n",
    "#\n",
    "tester_newton(newton, afficher); # tester l'algorithme de Newton"
   ]
  },
  {
   "cell_type": "code",
   "execution_count": 2,
   "metadata": {},
   "outputs": [
    {
     "name": "stdout",
     "output_type": "stream",
     "text": [
      "-------------------------------------------------------------------------\n",
      "\u001b[34m\u001b[1mRésultats de : Newton appliqué à f0:\u001b[22m\u001b[39m\n",
      "  * x0       = -1.5707963267948966\n",
      "  * x_sol    = -1.5707963267948966\n",
      "  * f(x_sol) = -1.0\n",
      "  * nb_iters = 0\n",
      "  * flag     = 0\n",
      "  * solution = -1.5707963267948966\n",
      "-------------------------------------------------------------------------\n",
      "\u001b[34m\u001b[1mRésultats de : Newton appliqué à f0:\u001b[22m\u001b[39m\n",
      "  * x0       = -1.0707963267948966\n",
      "  * x_sol    = -1.5707963267949088\n",
      "  * f(x_sol) = -1.0\n",
      "  * nb_iters = 3\n",
      "  * flag     = 0\n",
      "  * solution = -1.5707963267948966\n",
      "-------------------------------------------------------------------------\n",
      "\u001b[34m\u001b[1mRésultats de : Newton appliqué à f0:\u001b[22m\u001b[39m\n",
      "  * x0       = 1.5707963267948966\n",
      "  * x_sol    = 1.5707963267948966\n",
      "  * f(x_sol) = 1.0"
     ]
    },
    {
     "name": "stdout",
     "output_type": "stream",
     "text": [
      "\n",
      "  * nb_iters = 0\n",
      "  * flag     = 0\n",
      "  * solution = -1.5707963267948966\n"
     ]
    }
   ],
   "source": [
    "include(\"../src/newton.jl\") # votre algorithme de Newton\n",
    "include(\"../test/fonctions_de_tests.jl\") # pour avoir la fonction d'affichage des résultats\n",
    "\n",
    "# Fonction f0\n",
    "# -----------\n",
    "f0(x)      =  sin(x)\n",
    "grad_f0(x) =  cos(x) # la gradient de la fonction f0\n",
    "hess_f0(x) = -sin(x) # la hessienne de la fonction f0\n",
    "solution   = -pi/2\n",
    "\n",
    "x0 = solution\n",
    "x_sol, f_sol, flag, nb_iters = newton(f0, grad_f0, hess_f0, x0)\n",
    "afficher_resultats(\"Newton\", \"f0\", x0, x_sol, f_sol, flag, nb_iters, solution)\n",
    "\n",
    "x0 = -pi/2+0.5\n",
    "x_sol, f_sol, flag, nb_iters = newton(f0, grad_f0, hess_f0, x0)\n",
    "afficher_resultats(\"Newton\", \"f0\", x0, x_sol, f_sol, flag, nb_iters, solution)\n",
    "\n",
    "x0 = pi/2\n",
    "x_sol, f_sol, flag, nb_iters = newton(f0, grad_f0, hess_f0, x0)\n",
    "afficher_resultats(\"Newton\", \"f0\", x0, x_sol, f_sol, flag, nb_iters, solution)\n"
   ]
  },
  {
   "cell_type": "markdown",
   "metadata": {},
   "source": [
    "## Interprétation \n",
    "\n",
    "1. Justifier les résultats obtenus pour l'exemple $f_0$ ci-dessus;\n",
    "2. Justifier que l’algorithme implémenté converge en une itération pour $f_{1}$;\n",
    "3. Justifier que l’algorithme puisse ne pas converger pour $f_{2}$ avec certains points initiaux.\n",
    "\n",
    "**Remarque.** Vous pouvez mettre `affiche=true` dans les tests de l'algorithme de Newton pour\n",
    "vous aider.\n"
   ]
  },
  {
   "cell_type": "markdown",
   "metadata": {},
   "source": [
    "1| \n",
    "- Dans le cas 1 (x0 = -pi/2) : La méthode de Newton converge immédiatement vers la solution (-pi/2) en 0 itérations. Cela est attendu, car la condition initiale (x0) est déjà la solution exacte.\n",
    "- Dans le cas 2 (x0 = -pi/2 + 0.5) : La méthode de Newton converge en 3 itérations vers la solution (-pi/2). Bien que la condition initiale (x0) soit proche de la solution, la méthode nécessite quelques itérations pour converger car il avait besoin de se rapprocher davantage de la solution.\n",
    "- Dans le cas 3 (x0 = pi/2) : La méthode de Newton converge immédiatement vers la solution (pi/2) en 0 itérations. Comme dans le premier cas, cela est attendu car la condition initiale (x0) est déjà la solution exacte.\n",
    "\n",
    "2| La hessiene de f1 est symétrique et définie positive, donc cette matrice est inversible, par conséquent, la méthode de Newton converge en une itération pour f1.\n",
    "\n",
    "3| Car c'est une foonction de Rosenbrock. Si on choisit la condition initiale loin du minimum global ou le long de la vallée, la méthode de Newton peut osciller de part et d'autre de la vallée sans converger."
   ]
  }
 ],
 "metadata": {
  "kernelspec": {
   "display_name": "Julia 1.9.4",
   "language": "julia",
   "name": "julia-1.9"
  },
  "language_info": {
   "file_extension": ".jl",
   "mimetype": "application/julia",
   "name": "julia",
   "version": "1.9.4"
  }
 },
 "nbformat": 4,
 "nbformat_minor": 4
}
